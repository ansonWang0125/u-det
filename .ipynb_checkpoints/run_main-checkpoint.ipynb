{
 "cells": [
  {
   "cell_type": "code",
   "execution_count": null,
   "id": "d078d5a8-1ab9-474b-b2a4-ca5db8a02375",
   "metadata": {},
   "outputs": [],
   "source": [
    "%run main.py --data_root_dir \"C:/LUNA/U-Det/Data\" --train 1 --num_splits 4"
   ]
  },
  {
   "cell_type": "code",
   "execution_count": null,
   "id": "82bd955b-d8a5-44cf-bf5d-b1ad6bd2b8e9",
   "metadata": {
    "tags": []
   },
   "outputs": [],
   "source": [
    "# def split_data(root_path, num_splits):\n",
    "#     mask_list = []\n",
    "#     for ext in ('*.mhd', '*.hdr', '*.nii','*.npy'):\n",
    "#         mask_list.extend(sorted(glob(join(root_path,'masks',ext))))\n",
    "\n",
    "#     assert len(mask_list) != 0, 'Unable to find any files in {}'.format(join(root_path,'masks'))\n",
    "\n",
    "#     outdir = join(root_path,'split_lists')\n",
    "#     try:\n",
    "#         print(\"fuck\")\n",
    "#         mkdir(outdir)\n",
    "#     except:\n",
    "#         pass\n",
    "#     if num_splits == 1:\n",
    "#         # Testing model, training set = testing set = 1 image\n",
    "#         train_index = test_index = mask_list\n",
    "#         with open(join(outdir,'train_split_' + str(0) + '.csv'), 'w', encoding='utf-8', newline='') as csvfile:\n",
    "#             writer = csv.writer(csvfile, delimiter=',', quotechar='|', quoting=csv.QUOTE_MINIMAL)\n",
    "#             print('basename=%s'%([basename(mask_list[0]).replace(\"masks_\",\"\")]))\n",
    "#             writer.writerow([basename(mask_list[0]).replace(\"masks_\",\"\")])\n",
    "#         with open(join(outdir,'test_split_' + str(0) + '.csv'), 'w', encoding='utf-8', newline='') as csvfile:\n",
    "#             writer = csv.writer(csvfile, delimiter=',', quotechar='|', quoting=csv.QUOTE_MINIMAL)\n",
    "#             writer.writerow([basename(mask_list[0]).replace(\"masks_\",\"\")])\n",
    "#     else:\n",
    "#         kf = KFold(n_splits=num_splits)\n",
    "#         print(\"kf: \", kf)\n",
    "#         n = 0\n",
    "#         for train_index, test_index in kf.split(mask_list):\n",
    "#             with open(join(outdir,'train_split_' + str(n) + '.csv'), 'w', newline='') as csvfile:\n",
    "#                 writer = csv.writer(csvfile)\n",
    "#                 for i in train_index:\n",
    "#                     base_name = basename(mask_list[i]).replace(\"masks_\", \"\").strip()\n",
    "#                     writer.writerow([base_name])\n",
    "#                     # break\n",
    "#             with open(join(outdir,'test_split_' + str(n) + '.csv'), 'w', newline='') as testCsvfile:\n",
    "#                 test_writer = csv.writer(testCsvfile)\n",
    "#                 for i in test_index:\n",
    "#                     test_writer.writerow([basename(mask_list[i]).replace(\"masks_\",\"\").strip()])\n",
    "#             # print(\"train_index\", train_index)\n",
    "#             # print(\"test_index\", test_index)\n",
    "#             break\n",
    "#             n += 1"
   ]
  },
  {
   "cell_type": "code",
   "execution_count": null,
   "id": "a60e0a2c-c764-4cc2-a81d-2437a5143305",
   "metadata": {
    "tags": []
   },
   "outputs": [],
   "source": [
    "# from glob import glob\n",
    "# from os.path import join, basename\n",
    "# from os import mkdir\n",
    "# from sklearn.model_selection import KFold\n",
    "# import csv"
   ]
  },
  {
   "cell_type": "code",
   "execution_count": null,
   "id": "8bbe357f-70e8-4df4-80c2-0f831764f48d",
   "metadata": {
    "tags": []
   },
   "outputs": [],
   "source": [
    "# split_data(\"C:/LUNA/U-Det/Data\", num_splits=4)"
   ]
  },
  {
   "cell_type": "code",
   "execution_count": null,
   "id": "feaa508c-95a5-48b1-b2a2-f79833a2a165",
   "metadata": {
    "tags": []
   },
   "outputs": [],
   "source": [
    "# with open('test.csv', 'w', newline='') as csvfile:\n",
    "#     writer = csv.writer(csvfile)\n",
    "#     for i in range (3):\n",
    "#         writer.writerow([\"test\"])"
   ]
  },
  {
   "cell_type": "code",
   "execution_count": null,
   "id": "8172ed4d-0ab1-4d25-b2f7-82d34e280c40",
   "metadata": {},
   "outputs": [],
   "source": [
    "# def load_data(root, split):\n",
    "#     # Load the training and testing lists\n",
    "#     with open(join(root, 'split_lists', 'train_split_' + str(split) + '.csv'), 'r') as f:\n",
    "#         reader = csv.reader(f)\n",
    "#         training_list = list(reader)\n",
    "        \n",
    "#     print(training_list)\n",
    "\n",
    "#     with open(join(root, 'split_lists', 'test_split_' + str(split) + '.csv'), 'r') as f:\n",
    "#         reader = csv.reader(f)\n",
    "#         testing_list = list(reader)\n",
    "\n",
    "#     new_training_list, validation_list = train_test_split(training_list, test_size=0.1, random_state=7)\n",
    "#     if new_training_list == []: # if training_list only have 1 image file.\n",
    "#         new_training_list = validation_list\n",
    "#     return new_training_list, validation_list, testing_list\n"
   ]
  },
  {
   "cell_type": "code",
   "execution_count": null,
   "id": "6664da19-d5ff-4b56-8e40-69d44ff3f5b2",
   "metadata": {
    "tags": []
   },
   "outputs": [],
   "source": [
    "# train_list, val_list, test_list = load_data(\"C:/LUNA/U-Det/Data\", 0)"
   ]
  },
  {
   "cell_type": "code",
   "execution_count": 1,
   "id": "275609aa-d977-47c0-a128-7d508e07bbc5",
   "metadata": {},
   "outputs": [
    {
     "name": "stdout",
     "output_type": "stream",
     "text": [
      "WARNING:tensorflow:From C:\\Users\\oplab\\anaconda3\\Lib\\site-packages\\keras\\src\\losses.py:2976: The name tf.losses.sparse_softmax_cross_entropy is deprecated. Please use tf.compat.v1.losses.sparse_softmax_cross_entropy instead.\n",
      "\n",
      "2.15.0\n",
      "Num GPUs Available:  0\n"
     ]
    }
   ],
   "source": [
    "import tensorflow as tf\n",
    "print(tf.__version__)\n",
    "print(\"Num GPUs Available: \", len(tf.config.list_physical_devices('GPU')))"
   ]
  },
  {
   "cell_type": "code",
   "execution_count": null,
   "id": "f1826d35-4063-4a13-a9f0-6ea244a9e732",
   "metadata": {},
   "outputs": [],
   "source": [
    "# !conda list"
   ]
  }
 ],
 "metadata": {
  "kernelspec": {
   "display_name": "Python [conda env:root] *",
   "language": "python",
   "name": "conda-root-py"
  },
  "language_info": {
   "codemirror_mode": {
    "name": "ipython",
    "version": 3
   },
   "file_extension": ".py",
   "mimetype": "text/x-python",
   "name": "python",
   "nbconvert_exporter": "python",
   "pygments_lexer": "ipython3",
   "version": "3.11.5"
  }
 },
 "nbformat": 4,
 "nbformat_minor": 5
}
