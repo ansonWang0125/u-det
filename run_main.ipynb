{
 "cells": [
  {
   "cell_type": "code",
   "execution_count": null,
   "id": "d078d5a8-1ab9-474b-b2a4-ca5db8a02375",
   "metadata": {},
   "outputs": [
    {
     "name": "stderr",
     "output_type": "stream",
     "text": [
      "C:\\Users\\oplab\\anaconda3\\envs\\ts-gpu\\lib\\site-packages\\tensorflow_addons\\utils\\ensure_tf_install.py:53: UserWarning: Tensorflow Addons supports using Python ops for all Tensorflow versions above or equal to 2.3.0 and strictly below 2.6.0 (nightly versions are not supported). \n",
      " The versions of TensorFlow you are currently using is 2.6.0 and is not supported. \n",
      "Some things might work, some things might not.\n",
      "If you were to encounter a bug, do not file an issue.\n",
      "If you want to make sure you're using a tested and supported configuration, either change the TensorFlow version or the TensorFlow Addons's version. \n",
      "You can find the compatibility matrix in TensorFlow Addon's readme:\n",
      "https://github.com/tensorflow/addons\n",
      "  warnings.warn(\n",
      "C:\\Users\\oplab\\anaconda3\\envs\\ts-gpu\\lib\\site-packages\\keras\\optimizer_v2\\optimizer_v2.py:355: UserWarning: The `lr` argument is deprecated, use `learning_rate` instead.\n",
      "  warnings.warn(\n"
     ]
    },
    {
     "name": "stdout",
     "output_type": "stream",
     "text": [
      "Model: \"model\"\n",
      "__________________________________________________________________________________________________\n",
      "Layer (type)                         Output Shape              Param #   Connected to             \n",
      "==================================================================================================\n",
      "input_1 (InputLayer)                 [(None, 512, 512, 1)]     0                                  \n",
      "__________________________________________________________________________________________________\n",
      "conv2d (Conv2D)                      (None, 512, 512, 64)      640       input_1[0][0]            \n",
      "__________________________________________________________________________________________________\n",
      "conv2d_1 (Conv2D)                    (None, 512, 512, 64)      36928     conv2d[0][0]             \n",
      "__________________________________________________________________________________________________\n",
      "max_pooling2d (MaxPooling2D)         (None, 256, 256, 64)      0         conv2d_1[0][0]           \n",
      "__________________________________________________________________________________________________\n",
      "conv2d_2 (Conv2D)                    (None, 256, 256, 128)     73856     max_pooling2d[0][0]      \n",
      "__________________________________________________________________________________________________\n",
      "conv2d_3 (Conv2D)                    (None, 256, 256, 128)     147584    conv2d_2[0][0]           \n",
      "__________________________________________________________________________________________________\n",
      "max_pooling2d_1 (MaxPooling2D)       (None, 128, 128, 128)     0         conv2d_3[0][0]           \n",
      "__________________________________________________________________________________________________\n",
      "conv2d_4 (Conv2D)                    (None, 128, 128, 256)     295168    max_pooling2d_1[0][0]    \n",
      "__________________________________________________________________________________________________\n",
      "conv2d_5 (Conv2D)                    (None, 128, 128, 256)     590080    conv2d_4[0][0]           \n",
      "__________________________________________________________________________________________________\n",
      "max_pooling2d_2 (MaxPooling2D)       (None, 64, 64, 256)       0         conv2d_5[0][0]           \n",
      "__________________________________________________________________________________________________\n",
      "conv2d_6 (Conv2D)                    (None, 64, 64, 512)       1180160   max_pooling2d_2[0][0]    \n",
      "__________________________________________________________________________________________________\n",
      "conv2d_7 (Conv2D)                    (None, 64, 64, 512)       2359808   conv2d_6[0][0]           \n",
      "__________________________________________________________________________________________________\n",
      "max_pooling2d_3 (MaxPooling2D)       (None, 32, 32, 512)       0         conv2d_7[0][0]           \n",
      "__________________________________________________________________________________________________\n",
      "conv2d_8 (Conv2D)                    (None, 32, 32, 1024)      4719616   max_pooling2d_3[0][0]    \n",
      "__________________________________________________________________________________________________\n",
      "conv2d_9 (Conv2D)                    (None, 32, 32, 1024)      9438208   conv2d_8[0][0]           \n",
      "__________________________________________________________________________________________________\n",
      "BiFPN_1_P7_conv (Conv2D)             (None, 32, 32, 64)        65536     conv2d_9[0][0]           \n",
      "__________________________________________________________________________________________________\n",
      "BiFPN_1_P7_bn (BatchNormalization)   (None, 32, 32, 64)        256       BiFPN_1_P7_conv[0][0]    \n",
      "__________________________________________________________________________________________________\n",
      "BiFPN_1_P6_conv (Conv2D)             (None, 64, 64, 64)        32768     conv2d_7[0][0]           \n",
      "__________________________________________________________________________________________________\n",
      "BiFPN_1_P7_relu (ReLU)               (None, 32, 32, 64)        0         BiFPN_1_P7_bn[0][0]      \n",
      "__________________________________________________________________________________________________\n",
      "BiFPN_1_P6_bn (BatchNormalization)   (None, 64, 64, 64)        256       BiFPN_1_P6_conv[0][0]    \n",
      "__________________________________________________________________________________________________\n",
      "up_sampling2d (UpSampling2D)         (None, 64, 64, 64)        0         BiFPN_1_P7_relu[0][0]    \n",
      "__________________________________________________________________________________________________\n",
      "BiFPN_1_P6_relu (ReLU)               (None, 64, 64, 64)        0         BiFPN_1_P6_bn[0][0]      \n",
      "__________________________________________________________________________________________________\n",
      "add (Add)                            (None, 64, 64, 64)        0         up_sampling2d[0][0]      \n",
      "                                                                         BiFPN_1_P6_relu[0][0]    \n",
      "__________________________________________________________________________________________________\n",
      "BiFPN_1_U_P6_dconv (DepthwiseConv2D) (None, 64, 64, 64)        576       add[0][0]                \n",
      "__________________________________________________________________________________________________\n",
      "BiFPN_1_U_P6_bn (BatchNormalization) (None, 64, 64, 64)        256       BiFPN_1_U_P6_dconv[0][0] \n",
      "__________________________________________________________________________________________________\n",
      "BiFPN_1_P5_conv (Conv2D)             (None, 128, 128, 64)      16384     conv2d_5[0][0]           \n",
      "__________________________________________________________________________________________________\n",
      "BiFPN_1_U_P6_relu (ReLU)             (None, 64, 64, 64)        0         BiFPN_1_U_P6_bn[0][0]    \n",
      "__________________________________________________________________________________________________\n",
      "BiFPN_1_P5_bn (BatchNormalization)   (None, 128, 128, 64)      256       BiFPN_1_P5_conv[0][0]    \n",
      "__________________________________________________________________________________________________\n",
      "up_sampling2d_1 (UpSampling2D)       (None, 128, 128, 64)      0         BiFPN_1_U_P6_relu[0][0]  \n",
      "__________________________________________________________________________________________________\n",
      "BiFPN_1_P5_relu (ReLU)               (None, 128, 128, 64)      0         BiFPN_1_P5_bn[0][0]      \n",
      "__________________________________________________________________________________________________\n",
      "add_1 (Add)                          (None, 128, 128, 64)      0         up_sampling2d_1[0][0]    \n",
      "                                                                         BiFPN_1_P5_relu[0][0]    \n",
      "__________________________________________________________________________________________________\n",
      "BiFPN_1_U_P5_dconv (DepthwiseConv2D) (None, 128, 128, 64)      576       add_1[0][0]              \n",
      "__________________________________________________________________________________________________\n",
      "BiFPN_1_U_P5_bn (BatchNormalization) (None, 128, 128, 64)      256       BiFPN_1_U_P5_dconv[0][0] \n",
      "__________________________________________________________________________________________________\n",
      "BiFPN_1_P4_conv (Conv2D)             (None, 256, 256, 64)      8192      conv2d_3[0][0]           \n",
      "__________________________________________________________________________________________________\n",
      "BiFPN_1_U_P5_relu (ReLU)             (None, 128, 128, 64)      0         BiFPN_1_U_P5_bn[0][0]    \n",
      "__________________________________________________________________________________________________\n",
      "BiFPN_1_P4_bn (BatchNormalization)   (None, 256, 256, 64)      256       BiFPN_1_P4_conv[0][0]    \n",
      "__________________________________________________________________________________________________\n",
      "up_sampling2d_2 (UpSampling2D)       (None, 256, 256, 64)      0         BiFPN_1_U_P5_relu[0][0]  \n",
      "__________________________________________________________________________________________________\n",
      "BiFPN_1_P4_relu (ReLU)               (None, 256, 256, 64)      0         BiFPN_1_P4_bn[0][0]      \n",
      "__________________________________________________________________________________________________\n",
      "add_2 (Add)                          (None, 256, 256, 64)      0         up_sampling2d_2[0][0]    \n",
      "                                                                         BiFPN_1_P4_relu[0][0]    \n",
      "__________________________________________________________________________________________________\n",
      "BiFPN_1_U_P4_dconv (DepthwiseConv2D) (None, 256, 256, 64)      576       add_2[0][0]              \n",
      "__________________________________________________________________________________________________\n",
      "BiFPN_1_U_P4_bn (BatchNormalization) (None, 256, 256, 64)      256       BiFPN_1_U_P4_dconv[0][0] \n",
      "__________________________________________________________________________________________________\n",
      "BiFPN_1_P3_conv (Conv2D)             (None, 512, 512, 64)      4096      conv2d_1[0][0]           \n",
      "__________________________________________________________________________________________________\n",
      "BiFPN_1_U_P4_relu (ReLU)             (None, 256, 256, 64)      0         BiFPN_1_U_P4_bn[0][0]    \n",
      "__________________________________________________________________________________________________\n",
      "BiFPN_1_P3_bn (BatchNormalization)   (None, 512, 512, 64)      256       BiFPN_1_P3_conv[0][0]    \n",
      "__________________________________________________________________________________________________\n",
      "up_sampling2d_3 (UpSampling2D)       (None, 512, 512, 64)      0         BiFPN_1_U_P4_relu[0][0]  \n",
      "__________________________________________________________________________________________________\n",
      "BiFPN_1_P3_relu (ReLU)               (None, 512, 512, 64)      0         BiFPN_1_P3_bn[0][0]      \n",
      "__________________________________________________________________________________________________\n",
      "add_3 (Add)                          (None, 512, 512, 64)      0         up_sampling2d_3[0][0]    \n",
      "                                                                         BiFPN_1_P3_relu[0][0]    \n",
      "__________________________________________________________________________________________________\n",
      "BiFPN_1_U_P3_dconv (DepthwiseConv2D) (None, 512, 512, 64)      576       add_3[0][0]              \n",
      "__________________________________________________________________________________________________\n",
      "BiFPN_1_U_P3_bn (BatchNormalization) (None, 512, 512, 64)      256       BiFPN_1_U_P3_dconv[0][0] \n",
      "__________________________________________________________________________________________________\n",
      "BiFPN_1_U_P3_relu (ReLU)             (None, 512, 512, 64)      0         BiFPN_1_U_P3_bn[0][0]    \n",
      "__________________________________________________________________________________________________\n",
      "max_pooling2d_4 (MaxPooling2D)       (None, 256, 256, 64)      0         BiFPN_1_U_P3_relu[0][0]  \n",
      "__________________________________________________________________________________________________\n",
      "add_4 (Add)                          (None, 256, 256, 64)      0         max_pooling2d_4[0][0]    \n",
      "                                                                         BiFPN_1_U_P4_relu[0][0]  \n",
      "                                                                         BiFPN_1_P4_relu[0][0]    \n",
      "__________________________________________________________________________________________________\n",
      "BiFPN_1_D_P4_dconv (DepthwiseConv2D) (None, 256, 256, 64)      576       add_4[0][0]              \n",
      "__________________________________________________________________________________________________\n",
      "BiFPN_1_D_P4_bn (BatchNormalization) (None, 256, 256, 64)      256       BiFPN_1_D_P4_dconv[0][0] \n",
      "__________________________________________________________________________________________________\n",
      "BiFPN_1_D_P4_relu (ReLU)             (None, 256, 256, 64)      0         BiFPN_1_D_P4_bn[0][0]    \n",
      "__________________________________________________________________________________________________\n",
      "max_pooling2d_5 (MaxPooling2D)       (None, 128, 128, 64)      0         BiFPN_1_D_P4_relu[0][0]  \n",
      "__________________________________________________________________________________________________\n",
      "add_5 (Add)                          (None, 128, 128, 64)      0         max_pooling2d_5[0][0]    \n",
      "                                                                         BiFPN_1_U_P5_relu[0][0]  \n",
      "                                                                         BiFPN_1_P5_relu[0][0]    \n",
      "__________________________________________________________________________________________________\n",
      "BiFPN_1_D_P5_dconv (DepthwiseConv2D) (None, 128, 128, 64)      576       add_5[0][0]              \n",
      "__________________________________________________________________________________________________\n",
      "BiFPN_1_D_P5_bn (BatchNormalization) (None, 128, 128, 64)      256       BiFPN_1_D_P5_dconv[0][0] \n",
      "__________________________________________________________________________________________________\n",
      "BiFPN_1_D_P5_relu (ReLU)             (None, 128, 128, 64)      0         BiFPN_1_D_P5_bn[0][0]    \n",
      "__________________________________________________________________________________________________\n",
      "max_pooling2d_6 (MaxPooling2D)       (None, 64, 64, 64)        0         BiFPN_1_D_P5_relu[0][0]  \n",
      "__________________________________________________________________________________________________\n",
      "add_6 (Add)                          (None, 64, 64, 64)        0         max_pooling2d_6[0][0]    \n",
      "                                                                         BiFPN_1_U_P6_relu[0][0]  \n",
      "                                                                         BiFPN_1_P6_relu[0][0]    \n",
      "__________________________________________________________________________________________________\n",
      "BiFPN_1_D_P6_dconv (DepthwiseConv2D) (None, 64, 64, 64)        576       add_6[0][0]              \n",
      "__________________________________________________________________________________________________\n",
      "BiFPN_1_D_P6_bn (BatchNormalization) (None, 64, 64, 64)        256       BiFPN_1_D_P6_dconv[0][0] \n",
      "__________________________________________________________________________________________________\n",
      "conv2d_transpose (Conv2DTranspose)   (None, 64, 64, 512)       2097664   conv2d_9[0][0]           \n",
      "__________________________________________________________________________________________________\n",
      "BiFPN_1_D_P6_relu (ReLU)             (None, 64, 64, 64)        0         BiFPN_1_D_P6_bn[0][0]    \n",
      "__________________________________________________________________________________________________\n",
      "concatenate (Concatenate)            (None, 64, 64, 576)       0         conv2d_transpose[0][0]   \n",
      "                                                                         BiFPN_1_D_P6_relu[0][0]  \n",
      "__________________________________________________________________________________________________\n",
      "conv2d_10 (Conv2D)                   (None, 64, 64, 512)       2654720   concatenate[0][0]        \n",
      "__________________________________________________________________________________________________\n",
      "conv2d_11 (Conv2D)                   (None, 64, 64, 512)       2359808   conv2d_10[0][0]          \n",
      "__________________________________________________________________________________________________\n",
      "conv2d_transpose_1 (Conv2DTranspose) (None, 128, 128, 256)     524544    conv2d_11[0][0]          \n",
      "__________________________________________________________________________________________________\n",
      "concatenate_1 (Concatenate)          (None, 128, 128, 320)     0         conv2d_transpose_1[0][0] \n",
      "                                                                         BiFPN_1_D_P5_relu[0][0]  \n",
      "__________________________________________________________________________________________________\n",
      "conv2d_12 (Conv2D)                   (None, 128, 128, 256)     737536    concatenate_1[0][0]      \n",
      "__________________________________________________________________________________________________\n",
      "conv2d_13 (Conv2D)                   (None, 128, 128, 256)     590080    conv2d_12[0][0]          \n",
      "__________________________________________________________________________________________________\n",
      "conv2d_transpose_2 (Conv2DTranspose) (None, 256, 256, 128)     131200    conv2d_13[0][0]          \n",
      "__________________________________________________________________________________________________\n",
      "concatenate_2 (Concatenate)          (None, 256, 256, 192)     0         conv2d_transpose_2[0][0] \n",
      "                                                                         BiFPN_1_D_P4_relu[0][0]  \n",
      "__________________________________________________________________________________________________\n",
      "conv2d_14 (Conv2D)                   (None, 256, 256, 128)     221312    concatenate_2[0][0]      \n",
      "__________________________________________________________________________________________________\n",
      "conv2d_15 (Conv2D)                   (None, 256, 256, 128)     147584    conv2d_14[0][0]          \n",
      "__________________________________________________________________________________________________\n",
      "conv2d_transpose_3 (Conv2DTranspose) (None, 512, 512, 64)      32832     conv2d_15[0][0]          \n",
      "__________________________________________________________________________________________________\n",
      "concatenate_3 (Concatenate)          (None, 512, 512, 128)     0         conv2d_transpose_3[0][0] \n",
      "                                                                         BiFPN_1_U_P3_relu[0][0]  \n",
      "__________________________________________________________________________________________________\n",
      "conv2d_16 (Conv2D)                   (None, 512, 512, 64)      73792     concatenate_3[0][0]      \n",
      "__________________________________________________________________________________________________\n",
      "conv2d_17 (Conv2D)                   (None, 512, 512, 64)      36928     conv2d_16[0][0]          \n",
      "__________________________________________________________________________________________________\n",
      "conv2d_18 (Conv2D)                   (None, 512, 512, 1)       65        conv2d_17[0][0]          \n",
      "==================================================================================================\n",
      "Total params: 28,584,193\n",
      "Trainable params: 28,582,657\n",
      "Non-trainable params: 1,536\n",
      "__________________________________________________________________________________________________\n",
      "Class weight file C:/LUNA/U-Det/Data\\split_lists\\train_split_0_class_weights.npy not found.\n",
      "Computing class weights now. This may take some time.\n"
     ]
    },
    {
     "name": "stderr",
     "output_type": "stream",
     "text": [
      "100%|█████████████████████████| 16/16 [00:00<00:00, 102.17it/s]"
     ]
    },
    {
     "name": "stdout",
     "output_type": "stream",
     "text": [
      "Finished computing class weights. This value has been saved for this training split.\n"
     ]
    },
    {
     "name": "stderr",
     "output_type": "stream",
     "text": [
      "\n",
      "C:\\Users\\oplab\\anaconda3\\envs\\ts-gpu\\lib\\site-packages\\keras\\utils\\generic_utils.py:494: CustomMaskWarning: Custom mask layers require a config and must override get_config. When loading, the custom mask layer must be passed to the custom_objects argument.\n",
      "  warnings.warn('Custom mask layers require a config and must override '\n"
     ]
    },
    {
     "name": "stdout",
     "output_type": "stream",
     "text": [
      "Epoch 1/20\n",
      " 114/1000 [==>...........................] - ETA: 17:29 - loss: 0.1473 - dice_hard: 0.2336"
     ]
    }
   ],
   "source": [
    "%run main.py --data_root_dir \"C:/LUNA/U-Det/Data\" --train 1 --num_splits 4"
   ]
  },
  {
   "cell_type": "code",
   "execution_count": null,
   "id": "47bc4a49-5c0c-4234-8c44-4555035a920c",
   "metadata": {},
   "outputs": [],
   "source": [
    "tf.test.is_gpu_available()"
   ]
  },
  {
   "cell_type": "code",
   "execution_count": null,
   "id": "82bd955b-d8a5-44cf-bf5d-b1ad6bd2b8e9",
   "metadata": {
    "tags": []
   },
   "outputs": [],
   "source": [
    "# def split_data(root_path, num_splits):\n",
    "#     mask_list = []\n",
    "#     for ext in ('*.mhd', '*.hdr', '*.nii','*.npy'):\n",
    "#         mask_list.extend(sorted(glob(join(root_path,'masks',ext))))\n",
    "\n",
    "#     assert len(mask_list) != 0, 'Unable to find any files in {}'.format(join(root_path,'masks'))\n",
    "\n",
    "#     outdir = join(root_path,'split_lists')\n",
    "#     try:\n",
    "#         print(\"fuck\")\n",
    "#         mkdir(outdir)\n",
    "#     except:\n",
    "#         pass\n",
    "#     if num_splits == 1:\n",
    "#         # Testing model, training set = testing set = 1 image\n",
    "#         train_index = test_index = mask_list\n",
    "#         with open(join(outdir,'train_split_' + str(0) + '.csv'), 'w', encoding='utf-8', newline='') as csvfile:\n",
    "#             writer = csv.writer(csvfile, delimiter=',', quotechar='|', quoting=csv.QUOTE_MINIMAL)\n",
    "#             print('basename=%s'%([basename(mask_list[0]).replace(\"masks_\",\"\")]))\n",
    "#             writer.writerow([basename(mask_list[0]).replace(\"masks_\",\"\")])\n",
    "#         with open(join(outdir,'test_split_' + str(0) + '.csv'), 'w', encoding='utf-8', newline='') as csvfile:\n",
    "#             writer = csv.writer(csvfile, delimiter=',', quotechar='|', quoting=csv.QUOTE_MINIMAL)\n",
    "#             writer.writerow([basename(mask_list[0]).replace(\"masks_\",\"\")])\n",
    "#     else:\n",
    "#         kf = KFold(n_splits=num_splits)\n",
    "#         print(\"kf: \", kf)\n",
    "#         n = 0\n",
    "#         for train_index, test_index in kf.split(mask_list):\n",
    "#             with open(join(outdir,'train_split_' + str(n) + '.csv'), 'w', newline='') as csvfile:\n",
    "#                 writer = csv.writer(csvfile)\n",
    "#                 for i in train_index:\n",
    "#                     base_name = basename(mask_list[i]).replace(\"masks_\", \"\").strip()\n",
    "#                     writer.writerow([base_name])\n",
    "#                     # break\n",
    "#             with open(join(outdir,'test_split_' + str(n) + '.csv'), 'w', newline='') as testCsvfile:\n",
    "#                 test_writer = csv.writer(testCsvfile)\n",
    "#                 for i in test_index:\n",
    "#                     test_writer.writerow([basename(mask_list[i]).replace(\"masks_\",\"\").strip()])\n",
    "#             # print(\"train_index\", train_index)\n",
    "#             # print(\"test_index\", test_index)\n",
    "#             break\n",
    "#             n += 1"
   ]
  },
  {
   "cell_type": "code",
   "execution_count": null,
   "id": "a60e0a2c-c764-4cc2-a81d-2437a5143305",
   "metadata": {
    "tags": []
   },
   "outputs": [],
   "source": [
    "# from glob import glob\n",
    "# from os.path import join, basename\n",
    "# from os import mkdir\n",
    "# from sklearn.model_selection import KFold\n",
    "# import csv"
   ]
  },
  {
   "cell_type": "code",
   "execution_count": null,
   "id": "8bbe357f-70e8-4df4-80c2-0f831764f48d",
   "metadata": {
    "tags": []
   },
   "outputs": [],
   "source": [
    "# split_data(\"C:/LUNA/U-Det/Data\", num_splits=4)"
   ]
  },
  {
   "cell_type": "code",
   "execution_count": null,
   "id": "feaa508c-95a5-48b1-b2a2-f79833a2a165",
   "metadata": {
    "tags": []
   },
   "outputs": [],
   "source": [
    "# with open('test.csv', 'w', newline='') as csvfile:\n",
    "#     writer = csv.writer(csvfile)\n",
    "#     for i in range (3):\n",
    "#         writer.writerow([\"test\"])"
   ]
  },
  {
   "cell_type": "code",
   "execution_count": null,
   "id": "8172ed4d-0ab1-4d25-b2f7-82d34e280c40",
   "metadata": {},
   "outputs": [],
   "source": [
    "# def load_data(root, split):\n",
    "#     # Load the training and testing lists\n",
    "#     with open(join(root, 'split_lists', 'train_split_' + str(split) + '.csv'), 'r') as f:\n",
    "#         reader = csv.reader(f)\n",
    "#         training_list = list(reader)\n",
    "        \n",
    "#     print(training_list)\n",
    "\n",
    "#     with open(join(root, 'split_lists', 'test_split_' + str(split) + '.csv'), 'r') as f:\n",
    "#         reader = csv.reader(f)\n",
    "#         testing_list = list(reader)\n",
    "\n",
    "#     new_training_list, validation_list = train_test_split(training_list, test_size=0.1, random_state=7)\n",
    "#     if new_training_list == []: # if training_list only have 1 image file.\n",
    "#         new_training_list = validation_list\n",
    "#     return new_training_list, validation_list, testing_list\n"
   ]
  },
  {
   "cell_type": "code",
   "execution_count": null,
   "id": "6664da19-d5ff-4b56-8e40-69d44ff3f5b2",
   "metadata": {
    "tags": []
   },
   "outputs": [],
   "source": [
    "# train_list, val_list, test_list = load_data(\"C:/LUNA/U-Det/Data\", 0)"
   ]
  },
  {
   "cell_type": "code",
   "execution_count": 3,
   "id": "275609aa-d977-47c0-a128-7d508e07bbc5",
   "metadata": {},
   "outputs": [
    {
     "name": "stdout",
     "output_type": "stream",
     "text": [
      "Num GPUs Available:  1\n"
     ]
    }
   ],
   "source": [
    "import tensorflow as tf\n",
    "print(\"Num GPUs Available: \", len(tf.config.list_physical_devices('GPU')))"
   ]
  },
  {
   "cell_type": "code",
   "execution_count": 1,
   "id": "04df2983-ff2c-489d-8965-4967bb5d04a5",
   "metadata": {},
   "outputs": [
    {
     "name": "stdout",
     "output_type": "stream",
     "text": [
      "WARNING:tensorflow:From C:\\Users\\oplab\\AppData\\Roaming\\Python\\Python311\\site-packages\\keras\\src\\losses.py:2976: The name tf.losses.sparse_softmax_cross_entropy is deprecated. Please use tf.compat.v1.losses.sparse_softmax_cross_entropy instead.\n",
      "\n",
      "2.15.0\n"
     ]
    }
   ],
   "source": [
    "import tensorflow as tf \n",
    "print(tf.__version__)"
   ]
  },
  {
   "cell_type": "code",
   "execution_count": null,
   "id": "33a6487d-c009-4c18-a600-9574bee62fa6",
   "metadata": {
    "tags": []
   },
   "outputs": [],
   "source": [
    "import tensorflow as tf\n",
    "print(\"Num GPUs Available: \", len(tf.config.list_physical_devices('GPU')))"
   ]
  },
  {
   "cell_type": "code",
   "execution_count": null,
   "id": "f1826d35-4063-4a13-a9f0-6ea244a9e732",
   "metadata": {},
   "outputs": [],
   "source": [
    "# !conda list"
   ]
  },
  {
   "cell_type": "code",
   "execution_count": 3,
   "id": "bc8d0fe1-1537-49b2-9d82-79251c4bddbb",
   "metadata": {},
   "outputs": [
    {
     "name": "stdout",
     "output_type": "stream",
     "text": [
      "Collecting h5py==2.9\n",
      "  Using cached h5py-2.9.0-cp37-cp37m-win_amd64.whl (2.4 MB)\n",
      "Requirement already satisfied: six in c:\\users\\oplab\\anaconda3\\envs\\python3.7\\lib\\site-packages (from h5py==2.9) (1.16.0)\n",
      "Requirement already satisfied: numpy>=1.7 in c:\\users\\oplab\\anaconda3\\envs\\python3.7\\lib\\site-packages (from h5py==2.9) (1.21.6)\n",
      "Installing collected packages: h5py\n",
      "Successfully installed h5py-2.9.0\n"
     ]
    }
   ],
   "source": [
    "!pip install --user h5py==2.9"
   ]
  }
 ],
 "metadata": {
  "kernelspec": {
   "display_name": "ts-gpu",
   "language": "python",
   "name": "ts-gpu"
  },
  "language_info": {
   "codemirror_mode": {
    "name": "ipython",
    "version": 3
   },
   "file_extension": ".py",
   "mimetype": "text/x-python",
   "name": "python",
   "nbconvert_exporter": "python",
   "pygments_lexer": "ipython3",
   "version": "3.11.5"
  }
 },
 "nbformat": 4,
 "nbformat_minor": 5
}
